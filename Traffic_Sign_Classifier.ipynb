{
 "cells": [
  {
   "cell_type": "markdown",
   "metadata": {},
   "source": [
    "# Self-Driving Car Engineer Nanodegree\n",
    "\n",
    "## Deep Learning\n",
    "\n",
    "## Project: Build a Traffic Sign Recognition Classifier\n",
    "\n",
    "In this notebook, a template is provided for you to implement your functionality in stages, which is required to successfully complete this project. If additional code is required that cannot be included in the notebook, be sure that the Python code is successfully imported and included in your submission if necessary. \n",
    "\n",
    "> **Note**: Once you have completed all of the code implementations, you need to finalize your work by exporting the iPython Notebook as an HTML document. Before exporting the notebook to html, all of the code cells need to have been run so that reviewers can see the final implementation and output. You can then export the notebook by using the menu above and navigating to  \\n\",\n",
    "    \"**File -> Download as -> HTML (.html)**. Include the finished document along with this notebook as your submission. \n",
    "\n",
    "In addition to implementing code, there is a writeup to complete. The writeup should be completed in a separate file, which can be either a markdown file or a pdf document. There is a [write up template](https://github.com/udacity/CarND-Traffic-Sign-Classifier-Project/blob/master/writeup_template.md) that can be used to guide the writing process. Completing the code template and writeup template will cover all of the [rubric points](https://review.udacity.com/#!/rubrics/481/view) for this project.\n",
    "\n",
    "The [rubric](https://review.udacity.com/#!/rubrics/481/view) contains \"Stand Out Suggestions\" for enhancing the project beyond the minimum requirements. The stand out suggestions are optional. If you decide to pursue the \"stand out suggestions\", you can include the code in this Ipython notebook and also discuss the results in the writeup file.\n",
    "\n",
    "\n",
    ">**Note:** Code and Markdown cells can be executed using the **Shift + Enter** keyboard shortcut. In addition, Markdown cells can be edited by typically double-clicking the cell to enter edit mode."
   ]
  },
  {
   "cell_type": "markdown",
   "metadata": {},
   "source": [
    "---\n",
    "## Step 0: Load The Data"
   ]
  },
  {
   "cell_type": "code",
   "execution_count": 1,
   "metadata": {
    "collapsed": false
   },
   "outputs": [],
   "source": [
    "# Load pickled data\n",
    "import pickle\n",
    "\n",
    "# TODO: Fill this in based on where you saved the training and testing data\n",
    "\n",
    "training_file = '../traffic-signs-data/train.p'\n",
    "validation_file= '../traffic-signs-data/valid.p'\n",
    "testing_file = '../traffic-signs-data/test.p'\n",
    "\n",
    "with open(training_file, mode='rb') as f:\n",
    "    train = pickle.load(f)\n",
    "with open(validation_file, mode='rb') as f:\n",
    "    valid = pickle.load(f)\n",
    "with open(testing_file, mode='rb') as f:\n",
    "    test = pickle.load(f)\n",
    "    \n",
    "X_train, y_train = train['features'], train['labels']\n",
    "X_valid, y_valid = valid['features'], valid['labels']\n",
    "X_test, y_test = test['features'], test['labels']"
   ]
  },
  {
   "cell_type": "markdown",
   "metadata": {},
   "source": [
    "---\n",
    "\n",
    "## Step 1: Dataset Summary & Exploration\n",
    "\n",
    "The pickled data is a dictionary with 4 key/value pairs:\n",
    "\n",
    "- `'features'` is a 4D array containing raw pixel data of the traffic sign images, (num examples, width, height, channels).\n",
    "- `'labels'` is a 1D array containing the label/class id of the traffic sign. The file `signnames.csv` contains id -> name mappings for each id.\n",
    "- `'sizes'` is a list containing tuples, (width, height) representing the the original width and height the image.\n",
    "- `'coords'` is a list containing tuples, (x1, y1, x2, y2) representing coordinates of a bounding box around the sign in the image. **THESE COORDINATES ASSUME THE ORIGINAL IMAGE. THE PICKLED DATA CONTAINS RESIZED VERSIONS (32 by 32) OF THESE IMAGES**\n",
    "\n",
    "Complete the basic data summary below. Use python, numpy and/or pandas methods to calculate the data summary rather than hard coding the results. For example, the [pandas shape method](http://pandas.pydata.org/pandas-docs/stable/generated/pandas.DataFrame.shape.html) might be useful for calculating some of the summary results. "
   ]
  },
  {
   "cell_type": "markdown",
   "metadata": {},
   "source": [
    "### Provide a Basic Summary of the Data Set Using Python, Numpy and/or Pandas"
   ]
  },
  {
   "cell_type": "code",
   "execution_count": 2,
   "metadata": {
    "collapsed": false
   },
   "outputs": [
    {
     "name": "stdout",
     "output_type": "stream",
     "text": [
      "Number of training examples = 34799\n",
      "Number of testing examples = 12630\n",
      "Image data shape = (32, 32, 3)\n",
      "Number of classes = 43\n"
     ]
    }
   ],
   "source": [
    "### Replace each question mark with the appropriate value. \n",
    "### Use python, pandas or numpy methods rather than hard coding the results\n",
    "\n",
    "# TODO: Number of training examples\n",
    "n_train = X_train.shape[0]\n",
    "\n",
    "# TODO: Number of testing examples.\n",
    "n_test = X_test.shape[0]\n",
    "\n",
    "# TODO: What's the shape of an traffic sign image?\n",
    "image_shape = X_train[0].shape\n",
    "\n",
    "# TODO: How many unique classes/labels there are in the dataset.\n",
    "n_classes = len(set(y_train))\n",
    "\n",
    "print(\"Number of training examples =\", n_train)\n",
    "print(\"Number of testing examples =\", n_test)\n",
    "print(\"Image data shape =\", image_shape)\n",
    "print(\"Number of classes =\", n_classes)"
   ]
  },
  {
   "cell_type": "markdown",
   "metadata": {},
   "source": [
    "### Include an exploratory visualization of the dataset"
   ]
  },
  {
   "cell_type": "markdown",
   "metadata": {},
   "source": [
    "Visualize the German Traffic Signs Dataset using the pickled file(s). This is open ended, suggestions include: plotting traffic sign images, plotting the count of each sign, etc.\n",
    "\n",
    "The [Matplotlib](http://matplotlib.org/) [examples](http://matplotlib.org/examples/index.html) and [gallery](http://matplotlib.org/gallery.html) pages are a great resource for doing visualizations in Python.\n",
    "\n",
    "**NOTE:** It's recommended you start with something simple first. If you wish to do more, come back to it after you've completed the rest of the sections."
   ]
  },
  {
   "cell_type": "code",
   "execution_count": 3,
   "metadata": {
    "collapsed": true
   },
   "outputs": [],
   "source": [
    "### Data exploration visualization code goes here.\n",
    "### Feel free to use as many code cells as needed.\n",
    "import matplotlib.pyplot as plt\n",
    "# Visualizations will be shown in the notebook.\n",
    "%matplotlib inline\n",
    "\n"
   ]
  },
  {
   "cell_type": "code",
   "execution_count": 4,
   "metadata": {
    "collapsed": false
   },
   "outputs": [
    {
     "name": "stdout",
     "output_type": "stream",
     "text": [
      "\n",
      "Image Shape: (32, 32, 3)\n",
      "\n",
      "Training Set:   34799 samples\n",
      "Validation Set: 4410 samples\n",
      "Test Set:       12630 samples\n"
     ]
    }
   ],
   "source": [
    "assert(len(X_train) == len(y_train))\n",
    "assert(len(X_valid) == len(y_valid))\n",
    "assert(len(X_test) == len(y_test))\n",
    "\n",
    "print()\n",
    "print(\"Image Shape: {}\".format(X_train[0].shape))\n",
    "print()\n",
    "print(\"Training Set:   {} samples\".format(len(X_train)))\n",
    "print(\"Validation Set: {} samples\".format(len(X_valid)))\n",
    "print(\"Test Set:       {} samples\".format(len(X_test)))"
   ]
  },
  {
   "cell_type": "code",
   "execution_count": 5,
   "metadata": {
    "collapsed": false
   },
   "outputs": [
    {
     "name": "stdout",
     "output_type": "stream",
     "text": [
      "22\n"
     ]
    },
    {
     "data": {
      "image/png": "[encoded data removed]",
      "text/plain": [
       "<matplotlib.figure.Figure at 0x120b14588>"
      ]
     },
     "metadata": {},
     "output_type": "display_data"
    }
   ],
   "source": [
    "import random\n",
    "import numpy as np\n",
    "import matplotlib.pyplot as plt\n",
    "%matplotlib inline\n",
    "\n",
    "index = random.randint(0, len(X_train))\n",
    "image = X_train[index].squeeze()\n",
    "\n",
    "plt.figure(figsize=(1,1))\n",
    "plt.imshow(image)\n",
    "print(y_train[index])"
   ]
  },
  {
   "cell_type": "code",
   "execution_count": 6,
   "metadata": {
    "collapsed": false
   },
   "outputs": [
    {
     "data": {
      "text/plain": [
       "<matplotlib.text.Text at 0x122bb2cf8>"
      ]
     },
     "execution_count": 6,
     "metadata": {},
     "output_type": "execute_result"
    },
    {
     "data": {
      "image/png": "[encoded data removed]",
      "text/plain": [
       "<matplotlib.figure.Figure at 0x122bb9160>"
      ]
     },
     "metadata": {},
     "output_type": "display_data"
    }
   ],
   "source": [
    "plt.hist(y_train, bins=n_classes)\n",
    "plt.title(\"Training Data Label Histogram\")\n",
    "plt.xlabel(\"Label\")\n",
    "plt.ylabel(\"Frequency\")"
   ]
  },
  {
   "cell_type": "code",
   "execution_count": 7,
   "metadata": {
    "collapsed": false
   },
   "outputs": [
    {
     "data": {
      "text/plain": [
       "<matplotlib.text.Text at 0x122cb1f28>"
      ]
     },
     "execution_count": 7,
     "metadata": {},
     "output_type": "execute_result"
    },
    {
     "data": {
      "image/png": "[encoded data removed]",
      "text/plain": [
       "<matplotlib.figure.Figure at 0x122c7c4a8>"
      ]
     },
     "metadata": {},
     "output_type": "display_data"
    }
   ],
   "source": [
    "plt.hist(y_valid, bins=n_classes)\n",
    "plt.title(\"Validation Data Label Histogram\")\n",
    "plt.xlabel(\"Label\")\n",
    "plt.ylabel(\"Frequency\")"
   ]
  },
  {
   "cell_type": "code",
   "execution_count": 8,
   "metadata": {
    "collapsed": false
   },
   "outputs": [
    {
     "data": {
      "text/plain": [
       "<matplotlib.text.Text at 0x122f23cf8>"
      ]
     },
     "execution_count": 8,
     "metadata": {},
     "output_type": "execute_result"
    },
    {
     "data": {
      "image/png": "[encoded data removed]",
      "text/plain": [
       "<matplotlib.figure.Figure at 0x122f02a90>"
      ]
     },
     "metadata": {},
     "output_type": "display_data"
    }
   ],
   "source": [
    "plt.hist(y_train, bins=n_classes)\n",
    "plt.title(\"Test Data Label Histogram\")\n",
    "plt.xlabel(\"Label\")\n",
    "plt.ylabel(\"Frequency\")"
   ]
  },
  {
   "cell_type": "markdown",
   "metadata": {},
   "source": [
    "----\n",
    "\n",
    "## Step 2: Design and Test a Model Architecture\n",
    "\n",
    "Design and implement a deep learning model that learns to recognize traffic signs. Train and test your model on the [German Traffic Sign Dataset](http://benchmark.ini.rub.de/?section=gtsrb&subsection=dataset).\n",
    "\n",
    "There are various aspects to consider when thinking about this problem:\n",
    "\n",
    "- Neural network architecture\n",
    "- Play around preprocessing techniques (normalization, rgb to grayscale, etc)\n",
    "- Number of examples per label (some have more than others).\n",
    "- Generate fake data.\n",
    "\n",
    "Here is an example of a [published baseline model on this problem](http://yann.lecun.com/exdb/publis/pdf/sermanet-ijcnn-11.pdf). It's not required to be familiar with the approach used in the paper but, it's good practice to try to read papers like these.\n",
    "\n",
    "**NOTE:** The LeNet-5 implementation shown in the [classroom](https://classroom.udacity.com/nanodegrees/nd013/parts/fbf77062-5703-404e-b60c-95b78b2f3f9e/modules/6df7ae49-c61c-4bb2-a23e-6527e69209ec/lessons/601ae704-1035-4287-8b11-e2c2716217ad/concepts/d4aca031-508f-4e0b-b493-e7b706120f81) at the end of the CNN lesson is a solid starting point. You'll have to change the number of classes and possibly the preprocessing, but aside from that it's plug and play!"
   ]
  },
  {
   "cell_type": "markdown",
   "metadata": {},
   "source": [
    "### Pre-process the Data Set (normalization, grayscale, etc.)"
   ]
  },
  {
   "cell_type": "markdown",
   "metadata": {},
   "source": [
    "Use the code cell (or multiple code cells, if necessary) to implement the first step of your project."
   ]
  },
  {
   "cell_type": "code",
   "execution_count": 24,
   "metadata": {
    "collapsed": false
   },
   "outputs": [
    {
     "data": {
      "text/plain": [
       "array([[[[ 1.078125 ,  1.078125 ,  1.09375  ],\n",
       "         [ 1.078125 ,  1.078125 ,  1.1015625],\n",
       "         [ 1.0859375,  1.0859375,  1.109375 ],\n",
       "         ..., \n",
       "         [ 1.0859375,  1.0859375,  1.109375 ],\n",
       "         [ 1.0859375,  1.0859375,  1.1171875],\n",
       "         [ 1.0859375,  1.0859375,  1.109375 ]],\n",
       "\n",
       "        [[ 1.078125 ,  1.078125 ,  1.1015625],\n",
       "         [ 1.078125 ,  1.078125 ,  1.1015625],\n",
       "         [ 1.0859375,  1.078125 ,  1.09375  ],\n",
       "         ..., \n",
       "         [ 1.0859375,  1.09375  ,  1.125    ],\n",
       "         [ 1.0859375,  1.0859375,  1.1171875],\n",
       "         [ 1.078125 ,  1.0859375,  1.109375 ]],\n",
       "\n",
       "        [[ 1.0859375,  1.078125 ,  1.109375 ],\n",
       "         [ 1.09375  ,  1.0859375,  1.109375 ],\n",
       "         [ 1.078125 ,  1.078125 ,  1.109375 ],\n",
       "         ..., \n",
       "         [ 1.09375  ,  1.09375  ,  1.125    ],\n",
       "         [ 1.0859375,  1.0859375,  1.1171875],\n",
       "         [ 1.0859375,  1.0859375,  1.1171875]],\n",
       "\n",
       "        ..., \n",
       "        [[ 1.28125  ,  1.328125 ,  1.390625 ],\n",
       "         [ 1.2578125,  1.3203125,  1.40625  ],\n",
       "         [ 1.234375 ,  1.28125  ,  1.359375 ],\n",
       "         ..., \n",
       "         [ 1.09375  ,  1.09375  ,  1.109375 ],\n",
       "         [ 1.1796875,  1.15625  ,  1.171875 ],\n",
       "         [ 1.2890625,  1.2734375,  1.296875 ]],\n",
       "\n",
       "        [[ 1.2890625,  1.328125 ,  1.3984375],\n",
       "         [ 1.265625 ,  1.328125 ,  1.40625  ],\n",
       "         [ 1.2421875,  1.2734375,  1.3515625],\n",
       "         ..., \n",
       "         [ 1.1015625,  1.0859375,  1.109375 ],\n",
       "         [ 1.2109375,  1.171875 ,  1.1796875],\n",
       "         [ 1.328125 ,  1.3046875,  1.3359375]],\n",
       "\n",
       "        [[ 1.296875 ,  1.328125 ,  1.40625  ],\n",
       "         [ 1.265625 ,  1.3203125,  1.3984375],\n",
       "         [ 1.1953125,  1.21875  ,  1.2890625],\n",
       "         ..., \n",
       "         [ 1.09375  ,  1.0859375,  1.1015625],\n",
       "         [ 1.140625 ,  1.1171875,  1.1171875],\n",
       "         [ 1.21875  ,  1.1953125,  1.1953125]]],\n",
       "\n",
       "\n",
       "       [[[ 1.2890625,  1.2734375,  1.2578125],\n",
       "         [ 1.3203125,  1.3046875,  1.28125  ],\n",
       "         [ 1.359375 ,  1.3125   ,  1.296875 ],\n",
       "         ..., \n",
       "         [ 1.65625  ,  1.703125 ,  1.78125  ],\n",
       "         [ 1.5390625,  1.53125  ,  1.546875 ],\n",
       "         [ 1.390625 ,  1.328125 ,  1.2890625]],\n",
       "\n",
       "        [[ 1.28125  ,  1.2734375,  1.2421875],\n",
       "         [ 1.3203125,  1.3046875,  1.2734375],\n",
       "         [ 1.3515625,  1.3203125,  1.296875 ],\n",
       "         ..., \n",
       "         [ 1.53125  ,  1.5234375,  1.609375 ],\n",
       "         [ 1.4296875,  1.3984375,  1.390625 ],\n",
       "         [ 1.40625  ,  1.3515625,  1.3203125]],\n",
       "\n",
       "        [[ 1.3046875,  1.28125  ,  1.2578125],\n",
       "         [ 1.328125 ,  1.3203125,  1.2890625],\n",
       "         [ 1.34375  ,  1.3203125,  1.3046875],\n",
       "         ..., \n",
       "         [ 1.6484375,  1.6328125,  1.734375 ],\n",
       "         [ 1.5      ,  1.5234375,  1.546875 ],\n",
       "         [ 1.3515625,  1.375    ,  1.3671875]],\n",
       "\n",
       "        ..., \n",
       "        [[ 1.5625   ,  1.5078125,  1.4140625],\n",
       "         [ 1.453125 ,  1.3984375,  1.34375  ],\n",
       "         [ 1.375    ,  1.3359375,  1.3125   ],\n",
       "         ..., \n",
       "         [ 1.3515625,  1.3125   ,  1.2734375],\n",
       "         [ 1.375    ,  1.34375  ,  1.2890625],\n",
       "         [ 1.3828125,  1.359375 ,  1.3046875]],\n",
       "\n",
       "        [[ 1.4921875,  1.3984375,  1.328125 ],\n",
       "         [ 1.4375   ,  1.375    ,  1.3359375],\n",
       "         [ 1.3828125,  1.34375  ,  1.3203125],\n",
       "         ..., \n",
       "         [ 1.359375 ,  1.3046875,  1.2578125],\n",
       "         [ 1.359375 ,  1.3203125,  1.2734375],\n",
       "         [ 1.3828125,  1.34375  ,  1.2890625]],\n",
       "\n",
       "        [[ 1.46875  ,  1.375    ,  1.3125   ],\n",
       "         [ 1.453125 ,  1.3828125,  1.3359375],\n",
       "         [ 1.4140625,  1.359375 ,  1.3203125],\n",
       "         ..., \n",
       "         [ 1.3984375,  1.34375  ,  1.3125   ],\n",
       "         [ 1.359375 ,  1.3203125,  1.2890625],\n",
       "         [ 1.3671875,  1.328125 ,  1.28125  ]]],\n",
       "\n",
       "\n",
       "       [[[ 1.4296875,  1.328125 ,  1.2734375],\n",
       "         [ 1.4375   ,  1.390625 ,  1.328125 ],\n",
       "         [ 1.3515625,  1.34375  ,  1.2890625],\n",
       "         ..., \n",
       "         [ 1.2890625,  1.265625 ,  1.21875  ],\n",
       "         [ 1.296875 ,  1.2578125,  1.2265625],\n",
       "         [ 1.375    ,  1.3359375,  1.3046875]],\n",
       "\n",
       "        [[ 1.4765625,  1.3671875,  1.3046875],\n",
       "         [ 1.46875  ,  1.40625  ,  1.328125 ],\n",
       "         [ 1.453125 ,  1.4296875,  1.3515625],\n",
       "         ..., \n",
       "         [ 1.265625 ,  1.2578125,  1.2109375],\n",
       "         [ 1.296875 ,  1.28125  ,  1.2421875],\n",
       "         [ 1.390625 ,  1.359375 ,  1.3203125]],\n",
       "\n",
       "        [[ 1.546875 ,  1.4375   ,  1.328125 ],\n",
       "         [ 1.546875 ,  1.46875  ,  1.34375  ],\n",
       "         [ 1.46875  ,  1.4140625,  1.3125   ],\n",
       "         ..., \n",
       "         [ 1.2421875,  1.25     ,  1.2265625],\n",
       "         [ 1.2578125,  1.25     ,  1.21875  ],\n",
       "         [ 1.3515625,  1.328125 ,  1.296875 ]],\n",
       "\n",
       "        ..., \n",
       "        [[ 1.515625 ,  1.4375   ,  1.3125   ],\n",
       "         [ 1.5      ,  1.3984375,  1.2890625],\n",
       "         [ 1.5      ,  1.375    ,  1.2578125],\n",
       "         ..., \n",
       "         [ 1.5703125,  1.4765625,  1.3828125],\n",
       "         [ 1.5703125,  1.4765625,  1.375    ],\n",
       "         [ 1.5703125,  1.4765625,  1.3984375]],\n",
       "\n",
       "        [[ 1.421875 ,  1.3359375,  1.2578125],\n",
       "         [ 1.390625 ,  1.3203125,  1.2421875],\n",
       "         [ 1.3671875,  1.3125   ,  1.2578125],\n",
       "         ..., \n",
       "         [ 1.5078125,  1.40625  ,  1.296875 ],\n",
       "         [ 1.4921875,  1.40625  ,  1.3125   ],\n",
       "         [ 1.46875  ,  1.3984375,  1.3125   ]],\n",
       "\n",
       "        [[ 1.359375 ,  1.296875 ,  1.2578125],\n",
       "         [ 1.3515625,  1.296875 ,  1.25     ],\n",
       "         [ 1.359375 ,  1.3046875,  1.296875 ],\n",
       "         ..., \n",
       "         [ 1.4375   ,  1.3671875,  1.2421875],\n",
       "         [ 1.4296875,  1.3671875,  1.2734375],\n",
       "         [ 1.4296875,  1.375    ,  1.28125  ]]],\n",
       "\n",
       "\n",
       "       ..., \n",
       "       [[[ 0.203125 ,  0.25     ,  0.0625   ],\n",
       "         [ 0.890625 ,  0.9296875,  0.828125 ],\n",
       "         [ 0.9765625,  0.9921875,  0.984375 ],\n",
       "         ..., \n",
       "         [ 1.28125  ,  1.4453125,  1.265625 ],\n",
       "         [ 1.640625 ,  0.0390625,  1.921875 ],\n",
       "         [ 0.140625 ,  0.3203125,  0.203125 ]],\n",
       "\n",
       "        [[ 1.9609375,  0.015625 ,  0.0390625],\n",
       "         [ 0.4921875,  0.640625 ,  0.703125 ],\n",
       "         [ 0.890625 ,  0.96875  ,  0.96875  ],\n",
       "         ..., \n",
       "         [ 1.3125   ,  1.3515625,  1.328125 ],\n",
       "         [ 1.5234375,  1.6484375,  1.59375  ],\n",
       "         [ 0.109375 ,  0.15625  ,  1.96875  ]],\n",
       "\n",
       "        [[ 1.890625 ,  1.8203125,  1.765625 ],\n",
       "         [ 0.296875 ,  0.3515625,  0.359375 ],\n",
       "         [ 0.875    ,  0.921875 ,  0.921875 ],\n",
       "         ..., \n",
       "         [ 1.515625 ,  1.3828125,  1.390625 ],\n",
       "         [ 1.4609375,  1.5234375,  1.53125  ],\n",
       "         [ 0.2265625,  0.25     ,  0.0546875]],\n",
       "\n",
       "        ..., \n",
       "        [[ 1.984375 ,  1.9609375,  1.609375 ],\n",
       "         [ 0.59375  ,  0.265625 ,  1.8828125],\n",
       "         [ 0.0859375,  1.9296875,  1.6953125],\n",
       "         ..., \n",
       "         [ 0.6796875,  0.609375 ,  0.0859375],\n",
       "         [ 0.640625 ,  0.4375   ,  0.03125  ],\n",
       "         [ 1.984375 ,  1.7890625,  1.5390625]],\n",
       "\n",
       "        [[ 1.5859375,  1.7109375,  1.453125 ],\n",
       "         [ 1.984375 ,  1.6484375,  1.40625  ],\n",
       "         [ 1.7734375,  1.5859375,  1.3828125],\n",
       "         ..., \n",
       "         [ 0.53125  ,  0.53125  ,  1.8984375],\n",
       "         [ 0.1171875,  0.1328125,  1.7578125],\n",
       "         [ 1.6796875,  1.6484375,  1.453125 ]],\n",
       "\n",
       "        [[ 1.71875  ,  1.859375 ,  1.5625   ],\n",
       "         [ 0.0859375,  1.703125 ,  1.4765625],\n",
       "         [ 1.8671875,  1.7109375,  1.6171875],\n",
       "         ..., \n",
       "         [ 1.7265625,  1.8125   ,  1.515625 ],\n",
       "         [ 1.5859375,  1.6640625,  1.640625 ],\n",
       "         [ 1.5078125,  1.5      ,  1.546875 ]]],\n",
       "\n",
       "\n",
       "       [[[ 1.1875   ,  1.2109375,  1.2578125],\n",
       "         [ 1.203125 ,  1.21875  ,  1.265625 ],\n",
       "         [ 1.1796875,  1.1953125,  1.2421875],\n",
       "         ..., \n",
       "         [ 1.1328125,  1.140625 ,  1.171875 ],\n",
       "         [ 1.125    ,  1.1328125,  1.15625  ],\n",
       "         [ 1.140625 ,  1.140625 ,  1.1640625]],\n",
       "\n",
       "        [[ 1.140625 ,  1.1640625,  1.1875   ],\n",
       "         [ 1.171875 ,  1.1796875,  1.1953125],\n",
       "         [ 1.1953125,  1.1953125,  1.2265625],\n",
       "         ..., \n",
       "         [ 1.125    ,  1.1328125,  1.171875 ],\n",
       "         [ 1.125    ,  1.1328125,  1.1640625],\n",
       "         [ 1.140625 ,  1.140625 ,  1.1640625]],\n",
       "\n",
       "        [[ 1.140625 ,  1.1640625,  1.203125 ],\n",
       "         [ 1.1640625,  1.171875 ,  1.1953125],\n",
       "         [ 1.1875   ,  1.1796875,  1.2109375],\n",
       "         ..., \n",
       "         [ 1.125    ,  1.1328125,  1.171875 ],\n",
       "         [ 1.125    ,  1.1328125,  1.1640625],\n",
       "         [ 1.1328125,  1.140625 ,  1.1640625]],\n",
       "\n",
       "        ..., \n",
       "        [[ 1.5859375,  1.6328125,  1.7109375],\n",
       "         [ 1.6015625,  1.6484375,  1.71875  ],\n",
       "         [ 1.59375  ,  1.6484375,  1.7265625],\n",
       "         ..., \n",
       "         [ 1.109375 ,  1.109375 ,  1.1484375],\n",
       "         [ 1.109375 ,  1.1015625,  1.140625 ],\n",
       "         [ 1.1015625,  1.1015625,  1.1328125]],\n",
       "\n",
       "        [[ 1.5546875,  1.6015625,  1.6640625],\n",
       "         [ 1.5703125,  1.625    ,  1.6796875],\n",
       "         [ 1.59375  ,  1.6484375,  1.71875  ],\n",
       "         ..., \n",
       "         [ 1.109375 ,  1.109375 ,  1.1484375],\n",
       "         [ 1.1171875,  1.1171875,  1.1484375],\n",
       "         [ 1.109375 ,  1.109375 ,  1.140625 ]],\n",
       "\n",
       "        [[ 1.5078125,  1.5625   ,  1.625    ],\n",
       "         [ 1.546875 ,  1.6015625,  1.6484375],\n",
       "         [ 1.5546875,  1.6171875,  1.671875 ],\n",
       "         ..., \n",
       "         [ 1.109375 ,  1.109375 ,  1.140625 ],\n",
       "         [ 1.1015625,  1.109375 ,  1.140625 ],\n",
       "         [ 1.1015625,  1.109375 ,  1.140625 ]]],\n",
       "\n",
       "\n",
       "       [[[ 1.984375 ,  0.0859375,  0.1328125],\n",
       "         [ 0.359375 ,  0.4296875,  0.4296875],\n",
       "         [ 0.5859375,  0.6328125,  0.609375 ],\n",
       "         ..., \n",
       "         [ 0.       ,  1.875    ,  1.7421875],\n",
       "         [ 1.890625 ,  1.71875  ,  1.5546875],\n",
       "         [ 1.8359375,  1.6875   ,  1.46875  ]],\n",
       "\n",
       "        [[ 0.       ,  0.0859375,  0.1796875],\n",
       "         [ 0.359375 ,  0.375    ,  0.359375 ],\n",
       "         [ 0.3671875,  0.375    ,  0.2265625],\n",
       "         ..., \n",
       "         [ 1.8359375,  1.65625  ,  1.453125 ],\n",
       "         [ 1.953125 ,  1.71875  ,  1.4609375],\n",
       "         [ 1.9609375,  1.7421875,  1.4765625]],\n",
       "\n",
       "        [[ 0.109375 ,  0.1875   ,  0.265625 ],\n",
       "         [ 0.65625  ,  0.6328125,  0.6484375],\n",
       "         [ 0.6484375,  0.5234375,  0.328125 ],\n",
       "         ..., \n",
       "         [ 1.671875 ,  1.546875 ,  1.4140625],\n",
       "         [ 1.7890625,  1.6640625,  1.4921875],\n",
       "         [ 1.90625  ,  1.75     ,  1.5546875]],\n",
       "\n",
       "        ..., \n",
       "        [[ 1.5703125,  1.5546875,  1.4453125],\n",
       "         [ 1.625    ,  1.625    ,  1.5234375],\n",
       "         [ 1.734375 ,  1.71875  ,  1.5859375],\n",
       "         ..., \n",
       "         [ 1.4765625,  1.453125 ,  1.3125   ],\n",
       "         [ 1.421875 ,  1.4140625,  1.296875 ],\n",
       "         [ 1.421875 ,  1.3984375,  1.3046875]],\n",
       "\n",
       "        [[ 1.5546875,  1.53125  ,  1.3984375],\n",
       "         [ 1.6328125,  1.625    ,  1.515625 ],\n",
       "         [ 1.7734375,  1.75     ,  1.625    ],\n",
       "         ..., \n",
       "         [ 1.5390625,  1.5      ,  1.3671875],\n",
       "         [ 1.5078125,  1.46875  ,  1.3515625],\n",
       "         [ 1.4453125,  1.4140625,  1.3203125]],\n",
       "\n",
       "        [[ 1.515625 ,  1.4921875,  1.34375  ],\n",
       "         [ 1.5390625,  1.515625 ,  1.359375 ],\n",
       "         [ 1.6015625,  1.546875 ,  1.390625 ],\n",
       "         ..., \n",
       "         [ 1.578125 ,  1.515625 ,  1.390625 ],\n",
       "         [ 1.5703125,  1.4765625,  1.34375  ],\n",
       "         [ 1.46875  ,  1.40625  ,  1.296875 ]]]])"
      ]
     },
     "execution_count": 24,
     "metadata": {},
     "output_type": "execute_result"
    }
   ],
   "source": []
  },
  {
   "cell_type": "code",
   "execution_count": 9,
   "metadata": {
    "collapsed": false
   },
   "outputs": [],
   "source": [
    "### Preprocess the data here. Preprocessing steps could include normalization, converting to grayscale, etc.\n",
    "### Feel free to use as many code cells as needed.\n"
   ]
  },
  {
   "cell_type": "code",
   "execution_count": 10,
   "metadata": {
    "collapsed": false
   },
   "outputs": [],
   "source": [
    "### Normalization\n",
    "\n",
    "# (R-128)/128, (G-128)/128, (B-128)/128\n",
    "\n",
    "X_train = (X_train-128)/128\n",
    "X_test  = (X_test -128)/128\n",
    "X_valid = (X_valid-128)/128"
   ]
  },
  {
   "cell_type": "code",
   "execution_count": 11,
   "metadata": {
    "collapsed": true
   },
   "outputs": [],
   "source": [
    "### Shuffle the training data.\n",
    "from sklearn.utils import shuffle\n",
    "\n",
    "X_train, y_train = shuffle(X_train, y_train)"
   ]
  },
  {
   "cell_type": "markdown",
   "metadata": {},
   "source": [
    "### Model Architecture"
   ]
  },
  {
   "cell_type": "code",
   "execution_count": 12,
   "metadata": {
    "collapsed": true
   },
   "outputs": [],
   "source": [
    "### Define your architecture here.\n",
    "### Feel free to use as many code cells as needed."
   ]
  },
  {
   "cell_type": "code",
   "execution_count": 13,
   "metadata": {
    "collapsed": false
   },
   "outputs": [],
   "source": [
    "### Model Architecture\n",
    "### The `EPOCH` and `BATCH_SIZE` values affect the training speed and model accuracy."
   ]
  },
  {
   "cell_type": "code",
   "execution_count": 14,
   "metadata": {
    "collapsed": true
   },
   "outputs": [],
   "source": [
    "import tensorflow as tf\n",
    "\n",
    "EPOCHS = 10\n",
    "BATCH_SIZE = 128"
   ]
  },
  {
   "cell_type": "code",
   "execution_count": 30,
   "metadata": {
    "collapsed": true
   },
   "outputs": [],
   "source": [
    "from tensorflow.contrib.layers import flatten\n",
    "\n",
    "\n",
    "def conv2d(x, W, b, strides=1):\n",
    "    x = tf.nn.conv2d(x, W, strides=[1, strides, strides, 1], padding='VALID')\n",
    "    x = tf.nn.bias_add(x, b)\n",
    "    return tf.nn.relu(x)\n",
    "\n",
    "def maxpool2d(x, k=2):\n",
    "    return tf.nn.max_pool(\n",
    "        x,\n",
    "        ksize=[1, k, k, 1],\n",
    "        strides=[1, k, k, 1],\n",
    "        padding='VALID')\n",
    "\n",
    "def LeNet(x):    \n",
    "    # Arguments used for tf.truncated_normal, randomly defines variables for the weights and biases for each layer\n",
    "    mu = 0.0\n",
    "    sigma = 0.1\n",
    "    dropout = 0.5\n",
    "    \n",
    "    weights = {\n",
    "    'w1c': tf.Variable(tf.truncated_normal([5, 5, 3, 6]   , mean=mu, stddev=sigma)),\n",
    "    'w2c': tf.Variable(tf.truncated_normal([5, 5, 6, 16]  , mean=mu, stddev=sigma)),\n",
    "    'w3f': tf.Variable(tf.truncated_normal([400, 120]     , mean=mu, stddev=sigma)),\n",
    "    'w4f': tf.Variable(tf.truncated_normal([120, 84]      , mean=mu, stddev=sigma)),\n",
    "    'w5f': tf.Variable(tf.truncated_normal([84, n_classes], mean=mu, stddev=sigma))}\n",
    "\n",
    "    biases = {\n",
    "    'b1c': tf.Variable(tf.zeros([6])),\n",
    "    'b2c': tf.Variable(tf.zeros([16])),\n",
    "    'b3f': tf.Variable(tf.zeros([120])),\n",
    "    'b4f': tf.Variable(tf.zeros([84])),\n",
    "    'b5f': tf.Variable(tf.zeros([n_classes]))}\n",
    "    \n",
    "    #padding = ['VALID', 'VALID']\n",
    "    \n",
    "\n",
    "    # TODO: Layer 1: Convolutional. Input = 32x32x3. Output = 28x28x6.\n",
    "    conv1 = conv2d(x, weights['w1c'], biases['b1c'])\n",
    "    \n",
    "    # TODO: Activation.\n",
    "    # included in conv2d\n",
    "    \n",
    "    # TODO: Pooling. Input = 28x28x6. Output = 14x14x6.\n",
    "    conv1 = maxpool2d(conv1, k = 2)\n",
    "    #conv1 = tf.nn.dropout(conv1, dropout)\n",
    "    \n",
    "    # TODO: Layer 2: Convolutional. Output = 10x10x16.\n",
    "    conv2 = conv2d(conv1, weights['w2c'], biases['b2c'])\n",
    "    \n",
    "    # TODO: Activation.\n",
    "    # included in conv2d\n",
    "    \n",
    "    # TODO: Pooling. Input = 10x10x16. Output = 5x5x16.\n",
    "    conv2 = maxpool2d(conv2, k = 2)\n",
    "    #conv2 = tf.nn.dropout(conv2, dropout)\n",
    "    \n",
    "    # TODO: Flatten. Input = 5x5x16. Output = 400.\n",
    "    conv2 = flatten(conv2)\n",
    "\n",
    "    # TODO: Layer 3: Fully Connected. Input = 400. Output = 120.\n",
    "    fc3 = tf.add(tf.matmul(conv2, weights['w3f']), biases['b3f'])\n",
    "    \n",
    "    # TODO: Activation.\n",
    "    fc3 = tf.nn.relu(fc3)\n",
    "    #fc3 = tf.nn.dropout(fc3, dropout)\n",
    "    \n",
    "    # TODO: Layer 4: Fully Connected. Input = 120. Output = 84.\n",
    "    fc4 = tf.add(tf.matmul(fc3, weights['w4f']), biases['b4f'])\n",
    "    \n",
    "    # TODO: Activation.\n",
    "    fc4 = tf.nn.relu(fc4)\n",
    "    #fc4 = tf.nn.dropout(fc4, dropout)\n",
    "\n",
    "    # TODO: Layer 5: Fully Connected. Input = 84. Output = 43.\n",
    "    logits = tf.add(tf.matmul(fc4, weights['w5f']), biases['b5f'])\n",
    "    \n",
    "    return logits"
   ]
  },
  {
   "cell_type": "code",
   "execution_count": 31,
   "metadata": {
    "collapsed": false
   },
   "outputs": [],
   "source": [
    "### Features and Labels\n",
    "\n",
    "### Train LeNet to classify [MNIST](http://yann.lecun.com/exdb/mnist/) data.\n",
    "\n",
    "### x is a placeholder for a batch of input images.\n",
    "### y is a placeholder for a batch of output labels.\n"
   ]
  },
  {
   "cell_type": "code",
   "execution_count": 32,
   "metadata": {
    "collapsed": true
   },
   "outputs": [],
   "source": [
    "x = tf.placeholder(tf.float32, (None, 32, 32, 3))\n",
    "y = tf.placeholder(tf.int32, (None))\n",
    "one_hot_y = tf.one_hot(y, n_classes)"
   ]
  },
  {
   "cell_type": "markdown",
   "metadata": {},
   "source": [
    "### Train, Validate and Test the Model"
   ]
  },
  {
   "cell_type": "markdown",
   "metadata": {},
   "source": [
    "A validation set can be used to assess how well the model is performing. A low accuracy on the training and validation\n",
    "sets imply underfitting. A high accuracy on the training set but low accuracy on the validation set implies overfitting."
   ]
  },
  {
   "cell_type": "code",
   "execution_count": 33,
   "metadata": {
    "collapsed": true
   },
   "outputs": [],
   "source": [
    "### Train your model here.\n",
    "### Calculate and report the accuracy on the training and validation set.\n",
    "### Once a final model architecture is selected, \n",
    "### the accuracy on the test set should be calculated and reported as well.\n",
    "### Feel free to use as many code cells as needed."
   ]
  },
  {
   "cell_type": "code",
   "execution_count": 34,
   "metadata": {
    "collapsed": false
   },
   "outputs": [],
   "source": [
    "rate = 0.001\n",
    "\n",
    "logits = LeNet(x)\n",
    "cross_entropy = tf.nn.softmax_cross_entropy_with_logits(logits, one_hot_y)\n",
    "loss_operation = tf.reduce_mean(cross_entropy)\n",
    "optimizer = tf.train.AdamOptimizer(learning_rate = rate)\n",
    "training_operation = optimizer.minimize(loss_operation)"
   ]
  },
  {
   "cell_type": "code",
   "execution_count": 35,
   "metadata": {
    "collapsed": true
   },
   "outputs": [],
   "source": [
    "### Model Evaluation\n",
    "### Evaluate how well the loss and accuracy of the model for a given dataset."
   ]
  },
  {
   "cell_type": "code",
   "execution_count": 36,
   "metadata": {
    "collapsed": true
   },
   "outputs": [],
   "source": [
    "correct_prediction = tf.equal(tf.argmax(logits, 1), tf.argmax(one_hot_y, 1))\n",
    "accuracy_operation = tf.reduce_mean(tf.cast(correct_prediction, tf.float32))\n",
    "saver = tf.train.Saver()\n",
    "\n",
    "def evaluate(X_data, y_data):\n",
    "    num_examples = len(X_data)\n",
    "    total_accuracy = 0\n",
    "    sess = tf.get_default_session()\n",
    "    for offset in range(0, num_examples, BATCH_SIZE):\n",
    "        batch_x, batch_y = X_data[offset:offset+BATCH_SIZE], y_data[offset:offset+BATCH_SIZE]\n",
    "        accuracy = sess.run(accuracy_operation, feed_dict={x: batch_x, y: batch_y})\n",
    "        total_accuracy += (accuracy * len(batch_x))\n",
    "    return total_accuracy / num_examples"
   ]
  },
  {
   "cell_type": "code",
   "execution_count": 37,
   "metadata": {
    "collapsed": true
   },
   "outputs": [],
   "source": [
    "### Train the Model\n",
    "### Run the training data through the training pipeline to train the model.\n",
    "\n",
    "### Before each epoch, shuffle the training set.\n",
    "\n",
    "### After each epoch, measure the loss and accuracy of the validation set.\n",
    "\n",
    "### Save the model after training.\n"
   ]
  },
  {
   "cell_type": "code",
   "execution_count": 38,
   "metadata": {
    "collapsed": false
   },
   "outputs": [
    {
     "name": "stdout",
     "output_type": "stream",
     "text": [
      "Training...\n",
      "\n",
      "EPOCH 1 ...\n",
      "Validation Accuracy = 0.280\n",
      "\n",
      "EPOCH 2 ...\n",
      "Validation Accuracy = 0.545\n",
      "\n",
      "EPOCH 3 ...\n",
      "Validation Accuracy = 0.600\n",
      "\n",
      "EPOCH 4 ...\n",
      "Validation Accuracy = 0.638\n",
      "\n",
      "EPOCH 5 ...\n",
      "Validation Accuracy = 0.679\n",
      "\n",
      "EPOCH 6 ...\n",
      "Validation Accuracy = 0.694\n",
      "\n",
      "EPOCH 7 ...\n",
      "Validation Accuracy = 0.714\n",
      "\n",
      "EPOCH 8 ...\n",
      "Validation Accuracy = 0.719\n",
      "\n",
      "EPOCH 9 ...\n",
      "Validation Accuracy = 0.723\n",
      "\n",
      "EPOCH 10 ...\n",
      "Validation Accuracy = 0.749\n",
      "\n",
      "Model saved\n"
     ]
    }
   ],
   "source": [
    "with tf.Session() as sess:\n",
    "    sess.run(tf.global_variables_initializer())\n",
    "    num_examples = len(X_train)\n",
    "    \n",
    "    print(\"Training...\")\n",
    "    print()\n",
    "    for i in range(EPOCHS):\n",
    "        X_train, y_train = shuffle(X_train, y_train)\n",
    "        for offset in range(0, num_examples, BATCH_SIZE):\n",
    "            end = offset + BATCH_SIZE\n",
    "            batch_x, batch_y = X_train[offset:end], y_train[offset:end]\n",
    "            sess.run(training_operation, feed_dict={x: batch_x, y: batch_y})\n",
    "            \n",
    "        validation_accuracy = evaluate(X_valid, y_valid)\n",
    "        print(\"EPOCH {} ...\".format(i+1))\n",
    "        print(\"Validation Accuracy = {:.3f}\".format(validation_accuracy))\n",
    "        print()\n",
    "        \n",
    "    saver.save(sess, './lenet')\n",
    "    print(\"Model saved\")"
   ]
  },
  {
   "cell_type": "code",
   "execution_count": null,
   "metadata": {
    "collapsed": true
   },
   "outputs": [],
   "source": []
  },
  {
   "cell_type": "markdown",
   "metadata": {},
   "source": [
    "---\n",
    "\n",
    "## Step 3: Test a Model on New Images\n",
    "\n",
    "To give yourself more insight into how your model is working, download at least five pictures of German traffic signs from the web and use your model to predict the traffic sign type.\n",
    "\n",
    "You may find `signnames.csv` useful as it contains mappings from the class id (integer) to the actual sign name."
   ]
  },
  {
   "cell_type": "markdown",
   "metadata": {},
   "source": [
    "### Load and Output the Images"
   ]
  },
  {
   "cell_type": "code",
   "execution_count": null,
   "metadata": {
    "collapsed": true
   },
   "outputs": [],
   "source": [
    "### Load the images and plot them here.\n",
    "### Feel free to use as many code cells as needed."
   ]
  },
  {
   "cell_type": "markdown",
   "metadata": {},
   "source": [
    "### Predict the Sign Type for Each Image"
   ]
  },
  {
   "cell_type": "code",
   "execution_count": null,
   "metadata": {
    "collapsed": true
   },
   "outputs": [],
   "source": [
    "### Run the predictions here and use the model to output the prediction for each image.\n",
    "### Make sure to pre-process the images with the same pre-processing pipeline used earlier.\n",
    "### Feel free to use as many code cells as needed."
   ]
  },
  {
   "cell_type": "markdown",
   "metadata": {},
   "source": [
    "### Analyze Performance"
   ]
  },
  {
   "cell_type": "code",
   "execution_count": null,
   "metadata": {
    "collapsed": true
   },
   "outputs": [],
   "source": [
    "### Calculate the accuracy for these 5 new images. \n",
    "### For example, if the model predicted 1 out of 5 signs correctly, it's 20% accurate on these new images."
   ]
  },
  {
   "cell_type": "markdown",
   "metadata": {},
   "source": [
    "### Output Top 5 Softmax Probabilities For Each Image Found on the Web"
   ]
  },
  {
   "cell_type": "markdown",
   "metadata": {},
   "source": [
    "For each of the new images, print out the model's softmax probabilities to show the **certainty** of the model's predictions (limit the output to the top 5 probabilities for each image). [`tf.nn.top_k`](https://www.tensorflow.org/versions/r0.12/api_docs/python/nn.html#top_k) could prove helpful here. \n",
    "\n",
    "The example below demonstrates how tf.nn.top_k can be used to find the top k predictions for each image.\n",
    "\n",
    "`tf.nn.top_k` will return the values and indices (class ids) of the top k predictions. So if k=3, for each sign, it'll return the 3 largest probabilities (out of a possible 43) and the correspoding class ids.\n",
    "\n",
    "Take this numpy array as an example. The values in the array represent predictions. The array contains softmax probabilities for five candidate images with six possible classes. `tk.nn.top_k` is used to choose the three classes with the highest probability:\n",
    "\n",
    "```\n",
    "# (5, 6) array\n",
    "a = np.array([[ 0.24879643,  0.07032244,  0.12641572,  0.34763842,  0.07893497,\n",
    "         0.12789202],\n",
    "       [ 0.28086119,  0.27569815,  0.08594638,  0.0178669 ,  0.18063401,\n",
    "         0.15899337],\n",
    "       [ 0.26076848,  0.23664738,  0.08020603,  0.07001922,  0.1134371 ,\n",
    "         0.23892179],\n",
    "       [ 0.11943333,  0.29198961,  0.02605103,  0.26234032,  0.1351348 ,\n",
    "         0.16505091],\n",
    "       [ 0.09561176,  0.34396535,  0.0643941 ,  0.16240774,  0.24206137,\n",
    "         0.09155967]])\n",
    "```\n",
    "\n",
    "Running it through `sess.run(tf.nn.top_k(tf.constant(a), k=3))` produces:\n",
    "\n",
    "```\n",
    "TopKV2(values=array([[ 0.34763842,  0.24879643,  0.12789202],\n",
    "       [ 0.28086119,  0.27569815,  0.18063401],\n",
    "       [ 0.26076848,  0.23892179,  0.23664738],\n",
    "       [ 0.29198961,  0.26234032,  0.16505091],\n",
    "       [ 0.34396535,  0.24206137,  0.16240774]]), indices=array([[3, 0, 5],\n",
    "       [0, 1, 4],\n",
    "       [0, 5, 1],\n",
    "       [1, 3, 5],\n",
    "       [1, 4, 3]], dtype=int32))\n",
    "```\n",
    "\n",
    "Looking just at the first row we get `[ 0.34763842,  0.24879643,  0.12789202]`, you can confirm these are the 3 largest probabilities in `a`. You'll also notice `[3, 0, 5]` are the corresponding indices."
   ]
  },
  {
   "cell_type": "code",
   "execution_count": null,
   "metadata": {
    "collapsed": true
   },
   "outputs": [],
   "source": [
    "### Print out the top five softmax probabilities for the predictions on the German traffic sign images found on the web. \n",
    "### Feel free to use as many code cells as needed."
   ]
  },
  {
   "cell_type": "markdown",
   "metadata": {},
   "source": [
    "---\n",
    "\n",
    "## Step 4: Visualize the Neural Network's State with Test Images\n",
    "\n",
    " This Section is not required to complete but acts as an additional excersise for understaning the output of a neural network's weights. While neural networks can be a great learning device they are often referred to as a black box. We can understand what the weights of a neural network look like better by plotting their feature maps. After successfully training your neural network you can see what it's feature maps look like by plotting the output of the network's weight layers in response to a test stimuli image. From these plotted feature maps, it's possible to see what characteristics of an image the network finds interesting. For a sign, maybe the inner network feature maps react with high activation to the sign's boundary outline or to the contrast in the sign's painted symbol.\n",
    "\n",
    " Provided for you below is the function code that allows you to get the visualization output of any tensorflow weight layer you want. The inputs to the function should be a stimuli image, one used during training or a new one you provided, and then the tensorflow variable name that represents the layer's state during the training process, for instance if you wanted to see what the [LeNet lab's](https://classroom.udacity.com/nanodegrees/nd013/parts/fbf77062-5703-404e-b60c-95b78b2f3f9e/modules/6df7ae49-c61c-4bb2-a23e-6527e69209ec/lessons/601ae704-1035-4287-8b11-e2c2716217ad/concepts/d4aca031-508f-4e0b-b493-e7b706120f81) feature maps looked like for it's second convolutional layer you could enter conv2 as the tf_activation variable.\n",
    "\n",
    "For an example of what feature map outputs look like, check out NVIDIA's results in their paper [End-to-End Deep Learning for Self-Driving Cars](https://devblogs.nvidia.com/parallelforall/deep-learning-self-driving-cars/) in the section Visualization of internal CNN State. NVIDIA was able to show that their network's inner weights had high activations to road boundary lines by comparing feature maps from an image with a clear path to one without. Try experimenting with a similar test to show that your trained network's weights are looking for interesting features, whether it's looking at differences in feature maps from images with or without a sign, or even what feature maps look like in a trained network vs a completely untrained one on the same sign image.\n",
    "\n",
    "<figure>\n",
    " <img src=\"visualize_cnn.png\" width=\"380\" alt=\"Combined Image\" />\n",
    " <figcaption>\n",
    " <p></p> \n",
    " <p style=\"text-align: center;\"> Your output should look something like this (above)</p> \n",
    " </figcaption>\n",
    "</figure>\n",
    " <p></p> \n"
   ]
  },
  {
   "cell_type": "code",
   "execution_count": null,
   "metadata": {
    "collapsed": true
   },
   "outputs": [],
   "source": [
    "### Visualize your network's feature maps here.\n",
    "### Feel free to use as many code cells as needed.\n",
    "\n",
    "# image_input: the test image being fed into the network to produce the feature maps\n",
    "# tf_activation: should be a tf variable name used during your training procedure that represents the calculated state of a specific weight layer\n",
    "# activation_min/max: can be used to view the activation contrast in more detail, by default matplot sets min and max to the actual min and max values of the output\n",
    "# plt_num: used to plot out multiple different weight feature map sets on the same block, just extend the plt number for each new feature map entry\n",
    "\n",
    "def outputFeatureMap(image_input, tf_activation, activation_min=-1, activation_max=-1 ,plt_num=1):\n",
    "    # Here make sure to preprocess your image_input in a way your network expects\n",
    "    # with size, normalization, ect if needed\n",
    "    # image_input =\n",
    "    # Note: x should be the same name as your network's tensorflow data placeholder variable\n",
    "    # If you get an error tf_activation is not defined it maybe having trouble accessing the variable from inside a function\n",
    "    activation = tf_activation.eval(session=sess,feed_dict={x : image_input})\n",
    "    featuremaps = activation.shape[3]\n",
    "    plt.figure(plt_num, figsize=(15,15))\n",
    "    for featuremap in range(featuremaps):\n",
    "        plt.subplot(6,8, featuremap+1) # sets the number of feature maps to show on each row and column\n",
    "        plt.title('FeatureMap ' + str(featuremap)) # displays the feature map number\n",
    "        if activation_min != -1 & activation_max != -1:\n",
    "            plt.imshow(activation[0,:,:, featuremap], interpolation=\"nearest\", vmin =activation_min, vmax=activation_max, cmap=\"gray\")\n",
    "        elif activation_max != -1:\n",
    "            plt.imshow(activation[0,:,:, featuremap], interpolation=\"nearest\", vmax=activation_max, cmap=\"gray\")\n",
    "        elif activation_min !=-1:\n",
    "            plt.imshow(activation[0,:,:, featuremap], interpolation=\"nearest\", vmin=activation_min, cmap=\"gray\")\n",
    "        else:\n",
    "            plt.imshow(activation[0,:,:, featuremap], interpolation=\"nearest\", cmap=\"gray\")"
   ]
  },
  {
   "cell_type": "markdown",
   "metadata": {},
   "source": [
    "### Question 9\n",
    "\n",
    "Discuss how you used the visual output of your trained network's feature maps to show that it had learned to look for interesting characteristics in traffic sign images\n"
   ]
  },
  {
   "cell_type": "markdown",
   "metadata": {},
   "source": [
    "**Answer:**"
   ]
  },
  {
   "cell_type": "markdown",
   "metadata": {},
   "source": [
    "> **Note**: Once you have completed all of the code implementations and successfully answered each question above, you may finalize your work by exporting the iPython Notebook as an HTML document. You can do this by using the menu above and navigating to  \\n\",\n",
    "    \"**File -> Download as -> HTML (.html)**. Include the finished document along with this notebook as your submission."
   ]
  },
  {
   "cell_type": "markdown",
   "metadata": {},
   "source": [
    "### Project Writeup\n",
    "\n",
    "Once you have completed the code implementation, document your results in a project writeup using this [template](https://github.com/udacity/CarND-Traffic-Sign-Classifier-Project/blob/master/writeup_template.md) as a guide. The writeup can be in a markdown or pdf file. "
   ]
  }
 ],
 "metadata": {
  "anaconda-cloud": {},
  "kernelspec": {
   "display_name": "Python 3",
   "language": "python",
   "name": "python3"
  },
  "language_info": {
   "codemirror_mode": {
    "name": "ipython",
    "version": 3
   },
   "file_extension": ".py",
   "mimetype": "text/x-python",
   "name": "python",
   "nbconvert_exporter": "python",
   "pygments_lexer": "ipython3",
   "version": "3.5.2"
  },
  "widgets": {
   "state": {},
   "version": "1.1.2"
  }
 },
 "nbformat": 4,
 "nbformat_minor": 1
}
